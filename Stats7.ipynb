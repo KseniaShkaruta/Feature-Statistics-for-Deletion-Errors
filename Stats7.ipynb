{
 "cells": [
  {
   "cell_type": "code",
   "execution_count": 1,
   "metadata": {},
   "outputs": [],
   "source": [
    "import pandas as pd\n",
    "from scipy.stats import ttest_ind, ttest_ind_from_stats"
   ]
  },
  {
   "cell_type": "code",
   "execution_count": 2,
   "metadata": {},
   "outputs": [],
   "source": [
    "def stats_calculations(df):\n",
    "    \"\"\"calculate p-test for features for AD and Controls\"\"\"\n",
    "    t_values = []\n",
    "    p_values = []\n",
    "    for column in df.columns[df.columns.get_loc(\"ADJP_->_JJ\"): df.columns.get_loc(\"zcr_var\")+1]:        \n",
    "        t,p = ttest_ind(df.loc[df[\"label\"] == 'AD', column], df.loc[df[\"label\"] == 'Controls', column], equal_var = False, nan_policy = 'omit' )      \n",
    "        t_values.append(t)\n",
    "        p_values.append(p)\n",
    "    return p_values"
   ]
  },
  {
   "cell_type": "code",
   "execution_count": 3,
   "metadata": {},
   "outputs": [],
   "source": [
    "def features_stats(df):\n",
    "    \"\"\"\"create a new dataframe to collect p values for all the feature\"\"\"\n",
    "    \n",
    "    df_stats = pd.DataFrame(df.columns[df.columns.get_loc(\"ADJP_->_JJ\"): df.columns.get_loc(\"zcr_var\")+1], columns = ['features'])\n",
    "    df_stats['p value'] = stats_calculations(df)\n",
    "    important_feat = df_stats.loc[df_stats[\"p value\"] < 0.05, 'p value']    #identify most significant features\n",
    "    \n",
    "    return df_stats, important_feat"
   ]
  },
  {
   "cell_type": "code",
   "execution_count": 4,
   "metadata": {},
   "outputs": [],
   "source": [
    "#store speech transcript into a pandas dataframes\n",
    "df = pd.read_csv('../df_dembank_v34_normalized_cleaned_manual.csv')\n",
    "df20del = pd.merge(pd.read_csv('../DB_del20_feat_v34.csv'), df[['label', 'report_id']], on='report_id', how = 'left')\n",
    "df40del = pd.merge(pd.read_csv('../DB_del40_feat_v34.csv'), df[['label', 'report_id']], on='report_id', how = 'left')\n",
    "df60del = pd.merge(pd.read_csv('../DB_del60_feat_v34.csv'), df[['label', 'report_id']], on='report_id', how = 'left')\n",
    "df80del = pd.merge(pd.read_csv('../DB_del80_feat_v34.csv'), df[['label', 'report_id']], on='report_id', how = 'left')"
   ]
  },
  {
   "cell_type": "code",
   "execution_count": 7,
   "metadata": {},
   "outputs": [],
   "source": [
    "#run all the stats on the transcripts\n",
    "df_man_stats, man_import_feat = features_stats(df)\n",
    "df_del20_stats, del20_import_feat = features_stats(df20del)\n",
    "df_del40_stats, del40_import_feat = features_stats(df40del)\n",
    "df_del60_stats, del60_import_feat = features_stats(df60del)\n",
    "df_del80_stats, del80_import_feat = features_stats(df80del)"
   ]
  }
 ],
 "metadata": {
  "kernelspec": {
   "display_name": "Python 3",
   "language": "python",
   "name": "python3"
  },
  "language_info": {
   "codemirror_mode": {
    "name": "ipython",
    "version": 3
   },
   "file_extension": ".py",
   "mimetype": "text/x-python",
   "name": "python",
   "nbconvert_exporter": "python",
   "pygments_lexer": "ipython3",
   "version": "3.7.2"
  }
 },
 "nbformat": 4,
 "nbformat_minor": 2
}
