{
 "cells": [
  {
   "cell_type": "code",
   "execution_count": null,
   "metadata": {},
   "outputs": [],
   "source": [
    "import json\n",
    "import pandas as pd\n",
    "from scipy.stats import ttest_ind, ttest_ind_from_stats"
   ]
  },
  {
   "cell_type": "code",
   "execution_count": null,
   "metadata": {},
   "outputs": [],
   "source": [
    "#store transcript into a pandas dataframes, create a new dataframe that contains only report_id and features \n",
    "df = pd.read_csv('../DB_manual_v34.csv')\n",
    "\n",
    "df_feat = df.loc[:, \"ADJP_->_JJ\":]\n",
    "df_feat[\"report_id\"] = df.loc[:, \"report_id\"]"
   ]
  },
  {
   "cell_type": "code",
   "execution_count": null,
   "metadata": {},
   "outputs": [],
   "source": [
    "#store feature names into a list\n",
    "feature_list = df.columns.tolist()[29:]"
   ]
  },
  {
   "cell_type": "code",
   "execution_count": null,
   "metadata": {},
   "outputs": [],
   "source": [
    "#create dictionary with AD/HC diagnosis\n",
    "diagnosis = {}\n",
    "for index, row in df.iterrows():\n",
    "    report_id = row['report_id']\n",
    "    label = json.loads(row[\"diagnoses\"].replace(\"[\", \"\").replace(\"]\", \"\"))\n",
    "    diagnosis.update({report_id:label['name']})\n",
    "    #diagnosis_list.append(diagnosis)\n",
    "print(diagnosis)"
   ]
  },
  {
   "cell_type": "code",
   "execution_count": null,
   "metadata": {},
   "outputs": [],
   "source": [
    "#loop through the dataframe\n",
    "t_values = []\n",
    "p_values = []\n",
    "for column in df_feat.columns:\n",
    "    if column is not \"report_id\":\n",
    "        ad_feat_list = []\n",
    "        hc_feat_list = []\n",
    "        for index, row in df_feat.iterrows():\n",
    "            label = diagnosis.get(row['report_id'])\n",
    "            if label == 'hc':\n",
    "                hc_feat = row[column]\n",
    "                hc_feat_list.append(hc_feat)\n",
    "            else:\n",
    "                ad_feat = row[column]\n",
    "                ad_feat_list.append(ad_feat)\n",
    "        t, p = ttest_ind(ad_feat_list, hc_feat_list, equal_var = False, nan_policy='omit')\n",
    "        t_values.append(t)\n",
    "        p_values.append(p)"
   ]
  },
  {
   "cell_type": "code",
   "execution_count": null,
   "metadata": {},
   "outputs": [],
   "source": [
    "#create a new dataframe to collect p values for all the features\n",
    "df_stats = pd.DataFrame(feature_list, columns = ['features'])\n",
    "df_stats['p value'] = p_values"
   ]
  },
  {
   "cell_type": "code",
   "execution_count": null,
   "metadata": {},
   "outputs": [],
   "source": [
    "#identify features of high significance\n",
    "significant_feat = []\n",
    "for index, row in df_stats.iterrows():\n",
    "    if row['p value'] < 0.05:\n",
    "        significant_feat.append(row['features'])\n",
    "        print(significant_feat)"
   ]
  },
  {
   "cell_type": "code",
   "execution_count": null,
   "metadata": {},
   "outputs": [],
   "source": []
  }
 ],
 "metadata": {
  "kernelspec": {
   "display_name": "Python 3",
   "language": "python",
   "name": "python3"
  },
  "language_info": {
   "codemirror_mode": {
    "name": "ipython",
    "version": 3
   },
   "file_extension": ".py",
   "mimetype": "text/x-python",
   "name": "python",
   "nbconvert_exporter": "python",
   "pygments_lexer": "ipython3",
   "version": "3.7.2"
  }
 },
 "nbformat": 4,
 "nbformat_minor": 2
}
